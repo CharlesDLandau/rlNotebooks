{
 "cells": [
  {
   "cell_type": "markdown",
   "metadata": {
    "colab_type": "text",
    "id": "L5T2rl1D7fNi"
   },
   "source": [
    "### 🤖➡🌜 (Teach Bots to Land on the Moon)\n",
    "\n",
    "[Tinker with this notebook in Google Colab](https://colab.research.google.com/github/CharlesDLandau/rlNotebooks/blob/master/botsToTheMoon.ipynb)\n",
    "\n",
    "[GitHub](https://github.com/CharlesDLandau/rlNotebooks)\n",
    "\n",
    "In the past few episodes we've gone over design princples for reinforcement learning, introduced reinforcement learning with OpenAI Gym, and trained a deep learning model to navigate an OpenAI Gym environment. To accomplish this, we leveraged the agent-environment relationship:\n",
    "\n",
    "* The agent takes actions in the environment. These can be random, or guided by heuristics, or by a model, or some combination. It recieves data about the environment, like a picture of the environment or a string, and then it takes an action. Afterwards, it recieves a reward from the environment, which amount to positive or negative \"reinforcement\" of the selected behavior.\n",
    "\n",
    "* The environment tracks the state, possible actions, rewards and **reward function**, and optionally renders the environment to a display. It receives actions from the agent, and it can be configured to persist data (e.g. a video of the agent performing in the environment.)\n",
    "\n",
    "#### Better Agents\n",
    "\n",
    "In previous episodes we also implemented some janky, simplistic reinforcement learning. Without convolutional layers or a policy engine the network could only learn simplistic strategies (like [turn left](https://dev.to/charlesdlandau/drive-a-tank-with-python-3caf)).\n",
    "\n",
    "To solve this without reinventing the wheel we can use libraries like [Tensorflow Agents](https://github.com/tensorflow/agents), or [OpenAI Baselines](https://github.com/openai/baselines) which have some battle-tested implementations of the most successful agents. I've worked with a few of these libraries and I mostly came to the same conclusions as this [excellent article](https://medium.com/data-from-the-trenches/choosing-a-deep-reinforcement-learning-library-890fb0307092) by Thomas Simonini. Namely, I like [Stable Baselines](https://github.com/hill-a/stable-baselines), a fork of the OpenAI Baselines library.\n",
    "\n",
    "#### Getting Ready\n",
    "\n",
    "![Getting Ready](https://thumbs.gfycat.com/GorgeousUnfortunateAndalusianhorse-size_restricted.gif)\n",
    "\n",
    "Setting up Google Colab with Stable Baselines and its dependencies, and figuring out how to get gifs working, took me longer than I would have liked. You do it with the following lines:"
   ]
  },
  {
   "cell_type": "code",
   "execution_count": null,
   "metadata": {
    "colab": {},
    "colab_type": "code",
    "id": "-qwvf3RVKq_d"
   },
   "outputs": [],
   "source": [
    "# see: colab.research.google.com/drive/1GLlB53gvZaUyqMYv8GmZQJmshRUzV_tg\n",
    "!apt-get -qq -y install libcusparse8.0 libnvrtc8.0 libnvtoolsext1 > /dev/null\n",
    "!ln -snf /usr/lib/x86_64-linux-gnu/libnvrtc-builtins.so.8.0 /usr/lib/x86_64-linux-gnu/libnvrtc-builtins.so\n",
    "!apt-get -qq -y install xvfb freeglut3-dev ffmpeg> /dev/null\n",
    "\n",
    "!pip install stable-baselines==2.7.0\n",
    "\n",
    "# box2d fork until SWIG dependency is replaced\n",
    "!pip install box2d-py\n",
    "\n",
    "# pyglet later versions break gym apparently\n",
    "!pip install pyglet==1.3.2\n",
    "\n",
    "# Set up display; otherwise rendering will fail for\n",
    "# classic control type envs, apparently\n",
    "import os\n",
    "import Box2D\n",
    "import pyglet\n",
    "os.system(\"Xvfb :1 -screen 0 1024x768x24 &\")\n",
    "os.environ['DISPLAY'] = ':1'\n",
    "\n",
    "\n",
    "# See https://github.com/ipython/ipython/issues/10045#issuecomment-522697219\n",
    "from IPython.core.interactiveshell import InteractiveShell\n",
    "InteractiveShell.ast_node_interactivity = \"all\"\n",
    "from IPython import display"
   ]
  },
  {
   "cell_type": "markdown",
   "metadata": {
    "colab_type": "text",
    "id": "NllLzZ-EWa0H"
   },
   "source": [
    "With that out of the way, you can implement a high-quality Advantage Actor Critic (A2C) model in just two lines. Simple baselines is great because it has intuitive methods for training and predicting. Even better, it stores our enviornment as a `model.env` member, so all we need for typical workflows is a `model` instance.\n",
    "\n",
    "Let's train -- The following takes a fair bit of time to run:"
   ]
  },
  {
   "cell_type": "code",
   "execution_count": null,
   "metadata": {
    "colab": {},
    "colab_type": "code",
    "id": "UaVeoxFUgZGw"
   },
   "outputs": [],
   "source": [
    "from stable_baselines import A2C\n",
    "import time\n",
    "start = time.time()\n",
    "\n",
    "# Train a multilayer perceptron in the lunar lander.\n",
    "model = A2C('MlpPolicy', \"LunarLander-v2\").learn(900000)\n",
    "\n",
    "# Mine finished in about 10 minutes.\n",
    "print(f\"Finished in {time.time()-start}s\")"
   ]
  },
  {
   "cell_type": "markdown",
   "metadata": {
    "colab_type": "text",
    "id": "Tl5KzQngXPm3"
   },
   "source": [
    "### An actor and a critic walk into a bar.\n",
    "\n",
    "While that runs, let's talk about the Actor-Critic paradigm. The problem Actor-Critic solves involves none other than our reward function. In many cases the rewards only happen at the end of an \"episode\" AKA a \"game.\" Consider a reward function for tic-tac-toe:\n",
    "\n",
    "* Return 0 during play\n",
    "* Return 0 if game ends in a tie\n",
    "* Return -1.0 if game ends in a loss for the agent\n",
    "* Return 1.0 if game ends in a win for the agent\n",
    "\n",
    "As you can see, our agent is taking several steps each episode which recieve no feedback at all from the reward function, slowing training and making it difficult to give fine-grained feedback to our agent about specific actions. To solve this, Actor-Critic actually implements two models:\n",
    "\n",
    "*  A Critic model that tries to predict reward values that a given action will earn, given an observation about the environment. The table of predicted reward values for action-observation pairs is sometimes called a \"Q table.\"\n",
    "*  An Actor model that takes observations from the environment, but not rewards. It learns a strategy for playing in the environment, AKA a \"policy.\" Instead of optimizing on the environment's rewards directly, this model optimizes on _feedback from the critic model_. When we do predictions, just the Actor model needs to be called.\n",
    "\n",
    "We can easily imagine our Actor model in the lunar lander module, while the Critic sits in the command center observing the lander's actions.\n",
    "\n",
    "![the critic](https://thumbs.gfycat.com/FlawlessWhichAdamsstaghornedbeetle-size_restricted.gif)\n",
    "\n",
    "Each time an action is taken the Critic consults a table of actions, angles, speeds, and so on. Seeing whether the action will contribute to a successful landing, the Critic radios over to the Actor with feedback about the action, and the Actor learns to be a better pilot from the feedback. Over the course of thousands of landings, the Critic updates the table frequently based on crashes, successes, and surprises. Some days, the Actor flies with the radio turned off, but it doesn't learn anything.\n",
    "\n",
    "### Record a GIF of the landing\n",
    "\n",
    "By now your model might be done training. Per the docs, here's how we record a gif of our model in action:\n"
   ]
  },
  {
   "cell_type": "code",
   "execution_count": null,
   "metadata": {
    "colab": {},
    "colab_type": "code",
    "id": "-xRgteDZE5XC"
   },
   "outputs": [],
   "source": [
    "import imageio\n",
    "import numpy as np\n",
    "\n",
    "# Number of images to capture\n",
    "n_images = 1200\n",
    "\n",
    "# Our array of images\n",
    "images = []\n",
    "\n",
    "# init a new environment\n",
    "obs = model.env.reset()\n",
    "# init the img var with the starting state of the env\n",
    "img = model.env.render(mode='rgb_array')\n",
    "\n",
    "for i in range(n_images):\n",
    "  # At each step, capture an image\n",
    "  images.append(img)\n",
    "\n",
    "  # Advance a step an render\n",
    "  action, _ = model.predict(obs)\n",
    "  obs, _, _ ,_ = model.env.step(action)\n",
    "  img = model.env.render(mode='rgb_array')\n",
    "\n",
    "imageio.mimwrite('./lander.gif',\n",
    "                [np.array(img) for i, img in enumerate(images) if i%2 == 0],\n",
    "                fps=29)"
   ]
  },
  {
   "cell_type": "markdown",
   "metadata": {
    "colab_type": "text",
    "id": "t21gX5JDkQdl"
   },
   "source": [
    "If you're successful then `lander.gif` should look something like this:\n",
    "\n",
    "![lander.gif](https://serve-md.charlesdlandau.net/img/lander.gif)\n",
    "\n",
    "Displaying gifs in Jupyter is a little counterintuitive, here's how I do it:"
   ]
  },
  {
   "cell_type": "code",
   "execution_count": null,
   "metadata": {
    "colab": {},
    "colab_type": "code",
    "id": "uPINy-Q5nTiS"
   },
   "outputs": [],
   "source": [
    "from pathlib import Path\n",
    "gifPath = Path(\"lander.gif\")\n",
    "# Display GIF in Jupyter, CoLab, IPython\n",
    "with open(gifPath,'rb') as f:\n",
    "    display.Image(data=f.read(), format='png')"
   ]
  },
  {
   "cell_type": "markdown",
   "metadata": {
    "colab_type": "text",
    "id": "9PKcSsu3qgb7"
   },
   "source": [
    "### Wrapping Up...\n",
    "\n",
    "In this episode you:\n",
    "\n",
    "* Learned about Actor-Critic\n",
    "* Learned about Simple Baselines\n",
    "* Saw how to setup giffing the environments in a notebook\n",
    "* Landed on the moon!\n",
    "\n",
    "![goodjob.gif](https://thumbs.gfycat.com/PerfumedBelatedBlowfish-size_restricted.gif)\n",
    "\n",
    "Way to go!\n",
    "\n",
    "In future episodes we'll take a closer look at how RL can create value for users, businesses, and robot overlords. Stay tuned and thanks for reading.\n",
    "\n",
    "\n",
    "\n"
   ]
  }
 ],
 "metadata": {
  "colab": {
   "name": "botsToTheMoon.ipynb",
   "private_outputs": true,
   "provenance": [],
   "toc_visible": true
  },
  "kernelspec": {
   "display_name": "Python 3",
   "language": "python",
   "name": "python3"
  },
  "language_info": {
   "codemirror_mode": {
    "name": "ipython",
    "version": 3
   },
   "file_extension": ".py",
   "mimetype": "text/x-python",
   "name": "python",
   "nbconvert_exporter": "python",
   "pygments_lexer": "ipython3",
   "version": "3.7.4"
  }
 },
 "nbformat": 4,
 "nbformat_minor": 4
}

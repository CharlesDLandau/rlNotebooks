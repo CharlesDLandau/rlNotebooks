{
 "cells": [
  {
   "cell_type": "markdown",
   "metadata": {
    "colab_type": "text",
    "id": "JE2QGBu2PCxd"
   },
   "source": [
    "\n",
    "![a robot](https://serve-md.charlesdlandau.net/img/robot-rrmonkey-unsplash.jpg)\n",
    "\n",
    "### Drive a Tank With Python\n",
    "\n",
    "Previously, I reviewed core concepts in Reinforcement Learning (RL) and introduced important parts of the OpenAI Gym API. You can review that introduction [here](https://dev.to/charlesdlandau/train-robots-to-shoot-lazers-at-aliens-with-software-funded-by-elon-musk-and-microsoft-1m34).\n",
    "\n",
    "In this installment we'll train a tank commander. I'm sharing a bunch of the code for this project [here](https://github.com/CharlesDLandau/rlNotebooks)\n",
    "\n",
    "#### Side note: OpenAI Gym installation\n",
    "\n",
    "...is somewhat painful. Many online notebook services like [colab](https://colab.research.google.com) and [Kaggle](https://kaggle.org) don't allow you to install some of the OpenAI environments, so I'm going to stick to Atari for now. If you're interested in trying to set up OpenAI gym with more flexibility, you might start with [this interesting write-up](https://medium.com/coinmonks/preparing-a-headless-environment-for-openais-gym-with-docker-and-tensorflow-1bd0e0d31663)."
   ]
  },
  {
   "cell_type": "markdown",
   "metadata": {
    "colab_type": "text",
    "id": "lTj9Fo7MPCxk"
   },
   "source": [
    "In order to write agents that actually take the game screen into account when making decisions, we'll need to update our `run_job` utility from last time:\n",
    "\n",
    "```python\n",
    "    action = model.decision_function(obs=observation, env=env)\n",
    "```\n",
    "\n",
    "And our RandomAgent will need to be modified accordingly:"
   ]
  },
  {
   "cell_type": "code",
   "execution_count": null,
   "metadata": {
    "colab": {},
    "colab_type": "code",
    "id": "-Z5cKxB7PCxl"
   },
   "outputs": [],
   "source": [
    "class RandomAgentContainer:\n",
    "    \"\"\"A model that takes random actions and doesn't learn\"\"\"\n",
    "    \n",
    "    def __init__(self):\n",
    "        pass\n",
    "    \n",
    "    def decision_function(self, obs=None, env=None):\n",
    "        if env:\n",
    "            return env.action_space.sample()\n",
    "        else:\n",
    "            return 0\n",
    "    \n",
    "    def train_on_history(self, history):\n",
    "        pass\n",
    "    \n",
    "\n",
    "model = RandomAgentContainer()"
   ]
  },
  {
   "cell_type": "markdown",
   "metadata": {
    "colab_type": "text",
    "id": "yMBR6mz0PCxo"
   },
   "source": [
    "Now we can use our RandomAgent to explore all the information that our job creates."
   ]
  },
  {
   "cell_type": "code",
   "execution_count": null,
   "metadata": {
    "colab": {
     "base_uri": "https://localhost:8080/",
     "height": 34
    },
    "colab_type": "code",
    "id": "Bn0ZqXrdPCxt",
    "outputId": "4889cba9-2d87-48ea-b33f-abd9f9d352d4"
   },
   "outputs": [
    {
     "data": {
      "text/plain": [
       "dict_keys(['history', 'env', 'parameters'])"
      ]
     },
     "execution_count": 7,
     "metadata": {
      "tags": []
     },
     "output_type": "execute_result"
    }
   ],
   "source": [
    "result = run_job(\"Robotank-v0\", model,\n",
    "        10000, episodes_per_train=0);\n",
    "\n",
    "result.keys()"
   ]
  },
  {
   "cell_type": "markdown",
   "metadata": {
    "colab_type": "text",
    "id": "IZrHqolkPCx2"
   },
   "source": [
    "Our job produced video of the game being played, as well as a history of images, actions, predictions, and rewards. It also saved the environment object from OpenAI Gym.\n",
    "\n",
    "Let's begin by trying to understand our observations in a video:\n",
    "\n",
    "```python\n",
    "render_video(0, result['env']);\n",
    "```\n",
    "\n",
    "![GIF OF RANDOMAGENT](https://serve-md.charlesdlandau.net/img/tank_lesson_randomagent.gif)\n",
    "\n",
    "If, like me, you have never played Robot Tank on an Atari... you can [read the manual](http://www.atarimania.com/game-atari-2600-vcs-robot-tank_s6928.html)! You can learn about the heads up display and more.\n",
    "\n",
    "So anyway, it looks like the image has a bunch of noise in it. Let's see if we can extract any of that..."
   ]
  },
  {
   "cell_type": "code",
   "execution_count": null,
   "metadata": {
    "colab": {},
    "colab_type": "code",
    "id": "dVKm8JczPCx3"
   },
   "outputs": [],
   "source": [
    "import matplotlib\n",
    "from matplotlib.image import imread\n",
    "from matplotlib.pyplot import imshow"
   ]
  },
  {
   "cell_type": "markdown",
   "metadata": {
    "colab": {
     "base_uri": "https://localhost:8080/",
     "height": 286
    },
    "colab_type": "code",
    "id": "fzNAR7N4PCx7",
    "outputId": "729482f5-707f-491a-ac9a-268b727e57ef"
   },
   "source": [
    "```python\n",
    "observation_sample = [im['observation'] for im in result.get('history')]\n",
    "\n",
    "imshow(observation_sample[0])\n",
    "```\n",
    "![robotank_viewport](https://serve-md.charlesdlandau.net/img/robotank-viewport.png)"
   ]
  },
  {
   "cell_type": "markdown",
   "metadata": {
    "colab_type": "text",
    "id": "IFjwWsKjPCx_"
   },
   "source": [
    "So using the ticks on the axes and with a little trial and error we can find the bounding boxes for the radar panel and the periscope."
   ]
  },
  {
   "cell_type": "code",
   "execution_count": null,
   "metadata": {
    "colab": {
     "base_uri": "https://localhost:8080/",
     "height": 286
    },
    "colab_type": "code",
    "id": "GHWumc7RPCyA",
    "outputId": "6da151e7-8d44-436f-fe70-ca6e054544c8"
   },
   "outputs": [
    {
     "data": {
      "text/plain": [
       "<matplotlib.image.AxesImage at 0x7f48ad329b38>"
      ]
     },
     "execution_count": 11,
     "metadata": {
      "tags": []
     },
     "output_type": "execute_result"
    },
    {
     "data": {
      "image/png": "[encoded data removed]",
      "text/plain": [
       "<Figure size 432x288 with 1 Axes>"
      ]
     },
     "metadata": {
      "tags": []
     },
     "output_type": "display_data"
    }
   ],
   "source": [
    "imshow(observation_sample[0][139:172, 60:100, :])"
   ]
  },
  {
   "cell_type": "markdown",
   "metadata": {
    "colab_type": "text",
    "id": "4hufTic2PCyF"
   },
   "source": [
    "So, we can certainly crop this image and worry less about the noise..."
   ]
  },
  {
   "cell_type": "code",
   "execution_count": null,
   "metadata": {
    "colab": {},
    "colab_type": "code",
    "id": "IhxuywlfPCyG"
   },
   "outputs": [],
   "source": [
    "radar_bounding_box = ((139, 172), (60, 100), (None))"
   ]
  },
  {
   "cell_type": "markdown",
   "metadata": {
    "colab_type": "text",
    "id": "Zb_Eb3xRPCyJ"
   },
   "source": [
    "From reading the manual we know that one of the four indicators bracketing this radar display is \"R\" for \"radar.\" In other words, we' can't rely on radar as the only input, because all of those indicators represent subsystems that can be disabled.\n",
    "\n",
    "Let's also take a bounding box for the periscope:"
   ]
  },
  {
   "cell_type": "code",
   "execution_count": null,
   "metadata": {
    "colab": {
     "base_uri": "https://localhost:8080/",
     "height": 168
    },
    "colab_type": "code",
    "id": "MJeqE7ttPCyK",
    "outputId": "e66a0512-020c-4b1e-be0c-9dc25a2c4737"
   },
   "outputs": [
    {
     "data": {
      "text/plain": [
       "<matplotlib.image.AxesImage at 0x7f48ad693b38>"
      ]
     },
     "execution_count": 13,
     "metadata": {
      "tags": []
     },
     "output_type": "execute_result"
    },
    {
     "data": {
      "image/png": "[encoded data removed]",
      "text/plain": [
       "<Figure size 432x288 with 1 Axes>"
      ]
     },
     "metadata": {
      "tags": []
     },
     "output_type": "display_data"
    }
   ],
   "source": [
    "imshow(observation_sample[0][80:124, 12:160, :])"
   ]
  },
  {
   "cell_type": "code",
   "execution_count": null,
   "metadata": {
    "colab": {},
    "colab_type": "code",
    "id": "lr9xHq3sPCyP"
   },
   "outputs": [],
   "source": [
    "peri_bounding_box=((80, 124), (12, 160), (None))"
   ]
  },
  {
   "cell_type": "markdown",
   "metadata": {
    "colab_type": "text",
    "id": "y_xcX6stPCyS"
   },
   "source": [
    "Let's also check the `info` field because it sometimes has observation data."
   ]
  },
  {
   "cell_type": "code",
   "execution_count": null,
   "metadata": {
    "colab": {
     "base_uri": "https://localhost:8080/",
     "height": 34
    },
    "colab_type": "code",
    "id": "ws2pfKscPCyU",
    "outputId": "088fe9df-a358-40cf-fbc8-7fd4cc876ce2"
   },
   "outputs": [
    {
     "data": {
      "text/plain": [
       "{'ale.lives': 4}"
      ]
     },
     "execution_count": 15,
     "metadata": {
      "tags": []
     },
     "output_type": "execute_result"
    }
   ],
   "source": [
    "result.get('history')[0].get('info')"
   ]
  },
  {
   "cell_type": "markdown",
   "metadata": {
    "colab_type": "text",
    "id": "KYfZCwsKPCyZ"
   },
   "source": [
    "I'm going to intentionally ignore the V, C, R, T boxes and we can always reintrouduce them later if we think a performance gain in in in the offing. You saw in the manual how they work so I don't think it's a cause for concern..."
   ]
  },
  {
   "cell_type": "markdown",
   "metadata": {
    "colab_type": "text",
    "id": "mgAcwE5LPCya"
   },
   "source": [
    "Let's also try to understand the action space."
   ]
  },
  {
   "cell_type": "code",
   "execution_count": null,
   "metadata": {
    "colab": {
     "base_uri": "https://localhost:8080/",
     "height": 34
    },
    "colab_type": "code",
    "id": "lB1bA-m6PCyb",
    "outputId": "3fba2600-5408-4775-d246-dd066490500a"
   },
   "outputs": [
    {
     "name": "stdout",
     "output_type": "stream",
     "text": [
      "Discrete(18)\n"
     ]
    }
   ],
   "source": [
    "env = result['env']\n",
    "\n",
    "print(env.action_space)"
   ]
  },
  {
   "cell_type": "markdown",
   "metadata": {
    "colab_type": "text",
    "id": "frfqaxWEPCyg"
   },
   "source": [
    "Hmm...not helpful at all. But that's what you'd naturally think to do... It turns out that extracting action meanings has its own namespace in the `gym` API."
   ]
  },
  {
   "cell_type": "code",
   "execution_count": null,
   "metadata": {
    "colab": {
     "base_uri": "https://localhost:8080/",
     "height": 323
    },
    "colab_type": "code",
    "id": "C3CRYbMOPCyh",
    "outputId": "2ee66083-bb82-41a8-f8a6-0746dd085fd7"
   },
   "outputs": [
    {
     "data": {
      "text/plain": [
       "['NOOP',\n",
       " 'FIRE',\n",
       " 'UP',\n",
       " 'RIGHT',\n",
       " 'LEFT',\n",
       " 'DOWN',\n",
       " 'UPRIGHT',\n",
       " 'UPLEFT',\n",
       " 'DOWNRIGHT',\n",
       " 'DOWNLEFT',\n",
       " 'UPFIRE',\n",
       " 'RIGHTFIRE',\n",
       " 'LEFTFIRE',\n",
       " 'DOWNFIRE',\n",
       " 'UPRIGHTFIRE',\n",
       " 'UPLEFTFIRE',\n",
       " 'DOWNRIGHTFIRE',\n",
       " 'DOWNLEFTFIRE']"
      ]
     },
     "execution_count": 17,
     "metadata": {
      "tags": []
     },
     "output_type": "execute_result"
    }
   ],
   "source": [
    "# https://ai.stackexchange.com/a/3557\n",
    "env.unwrapped.get_action_meanings()"
   ]
  },
  {
   "cell_type": "markdown",
   "metadata": {
    "colab_type": "text",
    "id": "dCEBgJoSPCyn"
   },
   "source": [
    "So \"NOOP\" presumably means \"no-op\" i.e. \"do nothing.\" The rest apparently constitute all the permutations of actions available to the client. This is what we would expect the action space to be. These are also **discrete** actions so we can code our model to take exactly one action per step."
   ]
  },
  {
   "cell_type": "markdown",
   "metadata": {
    "colab_type": "text",
    "id": "QjlCizd9PCyp"
   },
   "source": [
    "Finally, let's visualize the rewards"
   ]
  },
  {
   "cell_type": "code",
   "execution_count": null,
   "metadata": {
    "colab": {
     "base_uri": "https://localhost:8080/",
     "height": 34
    },
    "colab_type": "code",
    "id": "vfJkQROaPCyq",
    "outputId": "64fdd852-7f26-4ac4-c8f9-b0ce5f629a43"
   },
   "outputs": [
    {
     "data": {
      "text/plain": [
       "{0.0, 1.0}"
      ]
     },
     "execution_count": 19,
     "metadata": {
      "tags": []
     },
     "output_type": "execute_result"
    }
   ],
   "source": [
    "set([r['reward'] for r in result['history']]) # Unique rewards across history"
   ]
  },
  {
   "cell_type": "code",
   "execution_count": null,
   "metadata": {
    "colab": {
     "base_uri": "https://localhost:8080/",
     "height": 286
    },
    "colab_type": "code",
    "id": "In3pxjCuPCyz",
    "outputId": "a7632f39-3651-4502-e30b-7088720e7912"
   },
   "outputs": [
    {
     "data": {
      "text/plain": [
       "[<matplotlib.lines.Line2D at 0x7f48ad9ed630>]"
      ]
     },
     "execution_count": 20,
     "metadata": {
      "tags": []
     },
     "output_type": "execute_result"
    },
    {
     "data": {
      "image/png": "[encoded data removed]",
      "text/plain": [
       "<Figure size 432x288 with 1 Axes>"
      ]
     },
     "metadata": {
      "tags": []
     },
     "output_type": "display_data"
    }
   ],
   "source": [
    "import matplotlib.pyplot as plt\n",
    "plt.plot([r['reward'] for r in result['history']])"
   ]
  },
  {
   "cell_type": "markdown",
   "metadata": {
    "colab_type": "text",
    "id": "Jf3gPgIpPCy4"
   },
   "source": [
    "Looks like the reward function is simply \"score a hit=1 else 0\". We can confirm by visualizing the observations at reward time."
   ]
  },
  {
   "cell_type": "code",
   "execution_count": null,
   "metadata": {
    "colab": {
     "base_uri": "https://localhost:8080/",
     "height": 286
    },
    "colab_type": "code",
    "id": "8-2PWikzPCy5",
    "outputId": "d6aa38ef-312b-43a2-bf7d-86a1dc0721d5"
   },
   "outputs": [
    {
     "data": {
      "text/plain": [
       "<matplotlib.image.AxesImage at 0x7f48adaa66d8>"
      ]
     },
     "execution_count": 21,
     "metadata": {
      "tags": []
     },
     "output_type": "execute_result"
    },
    {
     "data": {
      "image/png": "[encoded data removed]",
      "text/plain": [
       "<Figure size 432x288 with 1 Axes>"
      ]
     },
     "metadata": {
      "tags": []
     },
     "output_type": "display_data"
    }
   ],
   "source": [
    "# Observations when reward was given\n",
    "reward_incidents = list(filter(lambda i: i['reward'], result['history']))\n",
    "\n",
    "i = 0\n",
    "imshow(reward_incidents[i]['observation'])"
   ]
  },
  {
   "cell_type": "code",
   "execution_count": null,
   "metadata": {
    "colab": {
     "base_uri": "https://localhost:8080/",
     "height": 286
    },
    "colab_type": "code",
    "id": "OcZFA5brPCy9",
    "outputId": "23e957c7-ddd2-4285-9a80-07bddf7a1f2b"
   },
   "outputs": [
    {
     "data": {
      "text/plain": [
       "<matplotlib.image.AxesImage at 0x7f48ad917438>"
      ]
     },
     "execution_count": 22,
     "metadata": {
      "tags": []
     },
     "output_type": "execute_result"
    },
    {
     "data": {
      "image/png": "[encoded data removed]",
      "text/plain": [
       "<Figure size 432x288 with 1 Axes>"
      ]
     },
     "metadata": {
      "tags": []
     },
     "output_type": "display_data"
    }
   ],
   "source": [
    "i = 1\n",
    "imshow(reward_incidents[i]['observation'])"
   ]
  },
  {
   "cell_type": "code",
   "execution_count": null,
   "metadata": {
    "colab": {
     "base_uri": "https://localhost:8080/",
     "height": 286
    },
    "colab_type": "code",
    "id": "nloioGbtPCzE",
    "outputId": "58d5e8ec-fcda-40af-fe7b-7da42d50e5e1"
   },
   "outputs": [
    {
     "data": {
      "text/plain": [
       "<matplotlib.image.AxesImage at 0x7f48ad8ef5c0>"
      ]
     },
     "execution_count": 23,
     "metadata": {
      "tags": []
     },
     "output_type": "execute_result"
    },
    {
     "data": {
      "image/png": "[encoded data removed]",
      "text/plain": [
       "<Figure size 432x288 with 1 Axes>"
      ]
     },
     "metadata": {
      "tags": []
     },
     "output_type": "display_data"
    }
   ],
   "source": [
    "i = 2\n",
    "imshow(reward_incidents[i]['observation'])"
   ]
  },
  {
   "cell_type": "markdown",
   "metadata": {
    "colab_type": "text",
    "id": "nswUM7PrPCzH"
   },
   "source": [
    "They're all images that seem to be captured right after the tank scores a hit."
   ]
  },
  {
   "cell_type": "markdown",
   "metadata": {
    "colab_type": "text",
    "id": "UokcBrqbPCzI"
   },
   "source": [
    "#### Writing the tank commander\n",
    "\n",
    "##### The brain\n",
    "\n",
    "The TankCommander agent needs to learn how to decide which action to take. So, we first need to give it a mechanism for learning. In this case, we're going to use a special kind of graph. In this graph there are three kinds of nodes:\n",
    "\n",
    "1. Input nodes\n",
    "\n",
    "    Which take our inputs and send signals to the nodes that they are connected to\n",
    " \n",
    "2. Regular nodes\n",
    "\n",
    "    These nodes can have many connections from other nodes (including input nodes.) Some connections are strong, and some connections are weak. This node uses the signals and the signal strength from all the connections to decide what signal to send along all of its own outgoing connections.\n",
    "    \n",
    "3. Output nodes\n",
    "\n",
    "   These nodes are only different from regular nodes in that we read their signal.\n",
    "   \n",
    "The nodes are organized into \"layers\" that can share many connections and have a function in common for how they decide to aggregate and send signals.\n",
    "\n",
    "Now, I've simplified a lot, but the graph that we're talking about, if properly organized, is a deep learning neural net. To create one we can use `tensorflow` like so:\n",
    "\n",
    "\n",
    "```python\n",
    "import tensorflow as tf\n",
    "from tensorflow.keras import datasets, layers, models, preprocessing, callbacks\n",
    "import numpy as np\n",
    "import random\n",
    "\n",
    "inputs = layers.Input(shape=(44, 148, 3))\n",
    "x = layers.Conv2D(16, (3, 3), activation='relu')(inputs)\n",
    "x = layers.BatchNormalization(axis=-1)(x) # Channels @ -1\n",
    "x = layers.MaxPooling2D((2, 2))(x)\n",
    "x = layers.Flatten()(x)\n",
    "x = layers.Dense(64)(x)\n",
    "x = layers.Activation('relu')(x)\n",
    "x = layers.Dense(64)(x)\n",
    "x = layers.Activation('sigmoid')(x)\n",
    "x = layers.BatchNormalization(axis=-1)(x)\n",
    "x = layers.Dropout(0.02)(x)\n",
    "x = layers.Dense(18, activation='linear')(x)\n",
    "model = models.Model(inputs, x)\n",
    "model.compile(optimizer='sgd',\n",
    "      loss='mae',\n",
    "      metrics=['accuracy'])\n",
    "```\n",
    "\n",
    "Let's break it down:\n",
    "\n",
    "```python\n",
    "\n",
    "inputs = layers.Input(shape=(44, 148, 3))\n",
    "```\n",
    "\n",
    "You'll recall that this is the dimensions for one of our periscope images. These map to our input nodes.\n",
    "\n",
    "\n",
    "```python\n",
    "x = layers.Conv2D(16, (3, 3), activation='relu')(inputs)\n",
    "x = layers.BatchNormalization(axis=-1)(x) # Channels @ -1\n",
    "x = layers.MaxPooling2D((2, 2))(x)\n",
    "x = layers.Flatten()(x)\n",
    "x = layers.Dense(64)(x)\n",
    "x = layers.Activation('relu')(x)\n",
    "x = layers.Dense(64)(x)\n",
    "x = layers.Activation('sigmoid')(x)\n",
    "x = layers.BatchNormalization(axis=-1)(x)\n",
    "x = layers.Dropout(0.02)(x)\n",
    "x = layers.Dense(18, activation='linear')(x)\n",
    "model = models.Model(inputs, x)\n",
    "```\n",
    "\n",
    "This establishes layers of regular nodes in our graph and their interactions. It's pretty fancy.\n",
    "\n",
    "```python\n",
    "model.compile(optimizer='sgd',\n",
    "      loss='mae',\n",
    "      metrics=['accuracy'])\n",
    "```\n",
    "\n",
    "Finally we `compile` the model, giving it some special parameters. To teach our graph to drive a tank, we need to call the `fit` method e.g. `model.fit(data, correct_prediction)`. Each time this happens, our model goes back and updates the strength (aka the 'weight') of the regular connections. The fancy name for this is \"backpropagation.\" Anyway, the parameters of `model.compile` help determine how backpropagation is executed.\n",
    "\n",
    "##### The Experiences\n",
    "\n",
    "Now that we have a brain, the brain needs experiences to train on. As we know from our manual and our little exploration of the data, each episode maps to one full game of Robot Tank. However, in each game the player gets several tanks and if a tank is destroyed, the player simply \"respawns\" in a new tank. So the episode is actually not the smallest unit of experience, rather, it's the in-game \"life\" of a single tank.\n",
    "\n",
    "We can extract this from:\n",
    "\n",
    "```python\n",
    "\n",
    "episodes = [list(filter(lambda h: h[\"episode\"]==e , history)\n",
    "                      ) for e in range(n_episodes)\n",
    "]\n",
    "\n",
    "game_lives = [\n",
    "            list(\n",
    "              filter(lambda h: h.get('info').get('ale.lives')==l, episode)\n",
    "        ) for l in range(5)\n",
    "]\n",
    "\n",
    "```\n",
    "\n",
    "For each of these lives we can get a cumulative reward (how many hits scored before the life ends.)\n",
    "\n",
    "```python\n",
    "\n",
    "        rewards = [obs.get('reward') for obs in game_life]\n",
    "        cum_rewards = sum(rewards)\n",
    "```\n",
    "\n",
    "And using this number we can determine how strongly we want our brain to react to this experience\n",
    "\n",
    "```python\n",
    "        # Positive experience\n",
    "        if cum_rewards:\n",
    "            nudge = cum_rewards * 0.03\n",
    "        # Negative experience\n",
    "        else:\n",
    "           nudge = 0 - 0.03\n",
    "```\n",
    "\n",
    "Now, for a given step, we can:\n",
    "\n",
    "1. Take our original `action`, `prediction`, and periscope `image` as data\n",
    "2. `nudge` our `prediction` only at the `action` index, since we can only learn from the actions we have taken.\n",
    "3. Call `model.fit(image, prediction_with_nudge)`\n",
    "\n",
    "To visualize the problem with this, imagine you are tasked with riding a bike down a mountain blindfolded. As you miraculously ride down the mountain without killing yourself, you may reach a point where you seem to have reached the bottom. In any direction you try to go, you must pedal uphill. You take your blindfold off only to realize that you've barely gone a mile, and that you still have far to go before you reach the base of the mountain. The fancy term for this is a \"local minimum.\"\n",
    "\n",
    "![https://upload.wikimedia.org/wikipedia/commons/thumb/1/1e/Extrema_example.svg/600px-Extrema_example.svg.png](https://upload.wikimedia.org/wikipedia/commons/thumb/1/1e/Extrema_example.svg/600px-Extrema_example.svg.png)\n",
    "\n",
    "To address this we can just force the commander to randomly take actions sometimes:\n",
    "\n",
    "```python\n",
    "for obs in game_life:\n",
    "\n",
    "    action, prediction = obs.get('action')\n",
    "    if self.epsilon and (random.uniform(0, 1.0) < self.epsilon):\n",
    "      action = random.randrange(18)\n",
    "\n",
    "    # Copy\n",
    "    update = list(prediction)\n",
    "\n",
    "    # Update only the target action\n",
    "    update[0][action] = update[0][action] + displacement\n",
    "```\n",
    "\n",
    "With only 120k steps, our tank already seemed decided on a strategy:\n",
    "\n",
    "![converging_gif](https://serve-md.charlesdlandau.net/img/tank_lesson_converging.gif)\n",
    "\n",
    "As you can see, turning left is powerful in Robotank -- a whole squadron killed!\n",
    "\n",
    "![zoolander_turns_left](https://media.giphy.com/media/qJsJI0MhazjGw/giphy.gif)\n",
    "\n",
    "...but then it dies. I think this is pretty strong for a stumpy model trained only on the periscope viewport. Time permitting, I may continue to tinker with this one -- increasing the epsilon value, tinkering with the graph parameters, and adding views, all could help nudge the tank commander towards a more nuanced strategy.\n",
    "\n",
    "Anyway you've learned a bit about implementing DL with RL in Python. You learned:\n",
    "\n",
    "1. DL basic concepts\n",
    "2. Exploratory data analysis for RL\n",
    "3. Selectively applying rewards to specific actions, and smallest divisible units of experience\n",
    "4. Introducing random actions to help explore the \"action space\"\n",
    "\n",
    "Thanks for reading! Reach out with any questions."
   ]
  },
  {
   "cell_type": "code",
   "execution_count": null,
   "metadata": {},
   "outputs": [],
   "source": []
  }
 ],
 "metadata": {
  "accelerator": "GPU",
  "colab": {
   "name": "tankPub.ipynb",
   "provenance": [],
   "toc_visible": true,
   "version": "0.3.2"
  },
  "kernelspec": {
   "display_name": "Python 3",
   "language": "python",
   "name": "python3"
  },
  "language_info": {
   "codemirror_mode": {
    "name": "ipython",
    "version": 3
   },
   "file_extension": ".py",
   "mimetype": "text/x-python",
   "name": "python",
   "nbconvert_exporter": "python",
   "pygments_lexer": "ipython3",
   "version": "3.7.4"
  }
 },
 "nbformat": 4,
 "nbformat_minor": 4
}
